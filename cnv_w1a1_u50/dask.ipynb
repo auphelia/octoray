{
 "cells": [
  {
   "cell_type": "markdown",
   "metadata": {},
   "source": [
    "## Introduction\n",
    "This notebook demonstrates how to scale the CIFAR-10 image classification task using multiple FPGAs.\n",
    "In the first step, we connect to an existing Dask cluster using it's scheduler's IP address."
   ]
  },
  {
   "cell_type": "code",
   "execution_count": null,
   "metadata": {},
   "outputs": [],
   "source": [
    "## Uncomment and execute once to create results csv file\n",
    "#file = open(\"results.csv\", \"w\")\n",
    "#file.write(\"workers,fpga_type,batch_size,total_time,max_fpga_runtime,frequency[MHz],fpga_throughput,total_throughput\\n\")\n",
    "#file.close()"
   ]
  },
  {
   "cell_type": "code",
   "execution_count": 51,
   "metadata": {},
   "outputs": [
    {
     "data": {
      "text/html": [
       "<table style=\"border: 2px solid white;\">\n",
       "<tr>\n",
       "<td style=\"vertical-align: top; border: 0px solid white\">\n",
       "<h3 style=\"text-align: left;\">Client</h3>\n",
       "<ul style=\"text-align: left; list-style: none; margin: 0; padding: 0;\">\n",
       "  <li><b>Scheduler: </b>tcp://131.180.106.138:8786</li>\n",
       "  <li><b>Dashboard: </b><a href='http://131.180.106.138:8787/status' target='_blank'>http://131.180.106.138:8787/status</a></li>\n",
       "</ul>\n",
       "</td>\n",
       "<td style=\"vertical-align: top; border: 0px solid white\">\n",
       "<h3 style=\"text-align: left;\">Cluster</h3>\n",
       "<ul style=\"text-align: left; list-style:none; margin: 0; padding: 0;\">\n",
       "  <li><b>Workers: </b>1</li>\n",
       "  <li><b>Cores: </b>1</li>\n",
       "  <li><b>Memory: </b>0 B</li>\n",
       "</ul>\n",
       "</td>\n",
       "</tr>\n",
       "</table>"
      ],
      "text/plain": [
       "<Client: 'tcp://131.180.106.138:8786' processes=1 threads=1>"
      ]
     },
     "execution_count": 51,
     "metadata": {},
     "output_type": "execute_result"
    }
   ],
   "source": [
    "from dask.distributed import Client, progress, get_worker\n",
    "import os\n",
    "import binascii\n",
    "\n",
    "# Replace with IP address of the Dask scheduler\n",
    "client = Client(\"tcp://x.x.x.x:8786\") \n",
    "client"
   ]
  },
  {
   "cell_type": "markdown",
   "metadata": {},
   "source": [
    "### Define experiment parameters:\n",
    "\n",
    "BATCH_SIZES => A list of different batch sizes (number of images) we would like to run this experiment for.\n",
    "\n",
    "PLATFORM => One of the two supported platforms by the driver (alveo/zynq-iodma)\n",
    "\n",
    "XCLBIN_PATH_DEFAULT => Default path for the .xclbin file if one not provided via command line args\n",
    "\n",
    "DEVICE_NAME_DEFAULT => Default name for the FPGA device if one not provided via command line args"
   ]
  },
  {
   "cell_type": "code",
   "execution_count": 31,
   "metadata": {},
   "outputs": [],
   "source": [
    "BATCH_SIZES = [100, 500, 1000, 1500, 2000, 2500, 3000, 3500, 4500, 5000, 10000, 20000, 50000, 100000, 150000, 200000]\n",
    "PLATFORM = \"zynq-iodma\"\n",
    "XCLBIN_PATH_DEFAULT = \"resizer.bit\"\n",
    "DEVICE_NAME_DEFAULT = \"xilinx_u50_gen3x16_xdma_201920_3\""
   ]
  },
  {
   "cell_type": "markdown",
   "metadata": {},
   "source": [
    "### Download dataset\n",
    "Download a numpy-array formatted CIFAR-10 dataset to the current directory:"
   ]
  },
  {
   "cell_type": "code",
   "execution_count": 50,
   "metadata": {},
   "outputs": [
    {
     "name": "stdout",
     "output_type": "stream",
     "text": [
      "--2020-11-29 13:14:58--  https://raw.githubusercontent.com/modestyachts/CIFAR-10.1/master/datasets/cifar10.1_v4_data.npy\n",
      "Resolving raw.githubusercontent.com (raw.githubusercontent.com)... 151.101.36.133\n",
      "Connecting to raw.githubusercontent.com (raw.githubusercontent.com)|151.101.36.133|:443... connected.\n",
      "HTTP request sent, awaiting response... 200 OK\n",
      "Length: 6208640 (5.9M) [application/octet-stream]\n",
      "Saving to: ‘cifar10.1_v4_data.npy.10’\n",
      "\n",
      "100%[======================================>] 6,208,640   --.-K/s   in 0.08s   \n",
      "\n",
      "2020-11-29 13:14:58 (73.6 MB/s) - ‘cifar10.1_v4_data.npy.10’ saved [6208640/6208640]\n",
      "\n"
     ]
    }
   ],
   "source": [
    "!wget https://raw.githubusercontent.com/modestyachts/CIFAR-10.1/master/datasets/cifar10.1_v4_data.npy"
   ]
  },
  {
   "cell_type": "markdown",
   "metadata": {},
   "source": [
    "### Define the worker method\n",
    "\n",
    "Here, we define the Python method which will be executed on each of the Dask workers. This function calls the driver using the data partition it receives, and returns the output data (along with some performance statistics) to the caller (the Dask client)\n",
    "\n",
    "The little dance with the forking logic is needed since Pynq (used internally by *FINNAccelDriver*) cannot run in a non-main thread, which is how a Dask worker runs. \n",
    "\n"
   ]
  },
  {
   "cell_type": "code",
   "execution_count": 52,
   "metadata": {},
   "outputs": [],
   "source": [
    "def run_on_worker(ibuf_normal, index):\n",
    "    #print(\"Received \", len(ibuf_normal), \"images for classification\")\n",
    "    from multiprocessing import Process,Queue\n",
    "    import numpy as np\n",
    "    import time\n",
    "    \n",
    "    def forked_process(queue, ibuf_normal):\n",
    "        from driver import FINNAccelDriver\n",
    "        from pynq.ps import Clocks\n",
    "        \n",
    "        batch_size = len(ibuf_normal) \n",
    "        \n",
    "        device_name = os.environ.get('DEVICE_NAME', DEVICE_NAME_DEFAULT)\n",
    "        xclbin_path = os.environ.get('XCLBIN_PATH', XCLBIN_PATH_DEFAULT)\n",
    "        #print(\"Using parameters: DEVICE_NAME =\", device_name, \" XCLBIN_PATH =\", xclbin_path, \" PLATFORM =\", PLATFORM)\n",
    "        \n",
    "        finnDriver = FINNAccelDriver(batch_size, xclbin_path, PLATFORM, device_name)\n",
    "        ibuf_folded = finnDriver.fold_input(ibuf_normal)\n",
    "#         ibuf_packed = finnDriver.pack_input(ibuf_folded)   Do not pack for performance reasons\n",
    "        ibuf_packed = ibuf_folded\n",
    "        finnDriver.copy_input_data_to_device(ibuf_packed)\n",
    "        t0 = time.time()\n",
    "        finnDriver.execute()\n",
    "        t1 = time.time()\n",
    "        obuf_packed = np.empty_like(finnDriver.obuf_packed_device)\n",
    "        finnDriver.copy_output_data_from_device(obuf_packed)\n",
    "        obuf_folded = finnDriver.unpack_output(obuf_packed)\n",
    "        obuf_normal = finnDriver.unfold_output(obuf_folded)\n",
    "        \n",
    "        if PLATFORM != \"alveo\":\n",
    "            fclk_mhz = Clocks.fclk0_mhz\n",
    "        else:\n",
    "            fclk_mhz = finnDriver.fclk_mhz\n",
    "        runtime = t1-t0\n",
    "        queue.put({\n",
    "            'data': obuf_normal,\n",
    "            'runtime': runtime,\n",
    "            'index': index,\n",
    "            'fclk_mhz': fclk_mhz,\n",
    "            'throughput': batch_size/runtime,\n",
    "            'bandwidth_in': np.prod(finnDriver.ishape_packed)*0.000001 / runtime,\n",
    "            'bandwidth_out': np.prod(finnDriver.oshape_packed)*0.000001 / runtime,\n",
    "            'N': batch_size\n",
    "            \n",
    "        })\n",
    "    \n",
    "    \n",
    "    # We need to run the Pynq overlay in a new forked process since it cannot be run in a non-Main thread\n",
    "    t0_total = time.time()\n",
    "    queue = Queue()\n",
    "    p = Process(target=forked_process, args=(queue, ibuf_normal))\n",
    "    p.start()\n",
    "    result = queue.get()\n",
    "    p.join()\n",
    "    t1_total = time.time()\n",
    "    #print(\"TOTAL EXECUTION TIME ON THIS WORKER (s): \", t1_total - t0_total)\n",
    "    return result"
   ]
  },
  {
   "cell_type": "markdown",
   "metadata": {},
   "source": [
    "### Run the experiment\n",
    "Now we can run the classification.\n",
    "\n",
    "1. Partition the dataset into as many parts as the number of workers\n",
    "2. Send each part to a separate worker (using the *scatter* function from Dask)\n",
    "3. Submit the *run_on_worker* defined above to the scheduler, which will run it on all the workers.\n",
    "4. Collect and merge the results"
   ]
  },
  {
   "cell_type": "code",
   "execution_count": null,
   "metadata": {},
   "outputs": [],
   "source": [
    "import time\n",
    "import numpy as np\n",
    "import json\n",
    "\n",
    "num_of_workers = len(client.scheduler_info()[\"workers\"])\n",
    "full_cifar = np.load('cifar10.1_v4_data.npy')\n",
    "cifar_times100 = np.repeat(full_cifar,100,axis=0).copy()\n",
    "\n",
    "execution_times = []\n",
    "end_to_end_times = []\n",
    "for BATCH_SIZE in BATCH_SIZES:\n",
    "    #print(\"BATCH_SIZE:\", BATCH_SIZE)\n",
    "    partial_cifar = cifar_times100[:BATCH_SIZE]\n",
    "    t0 = time.time()\n",
    "    \n",
    "    # Split up the file into equal sized chunks based on number of available Dask workers\n",
    "    data_split = []\n",
    "    start = 0\n",
    "    chunk_size = int(len(partial_cifar)/num_of_workers)\n",
    "    for i in range(num_of_workers - 1):\n",
    "        data_split.append(partial_cifar[start: start+chunk_size])\n",
    "        start += chunk_size\n",
    "    data_split.append(partial_cifar[start:]) #Last partition\n",
    "\n",
    "    # Scatter the data to the workers before calling run_on_worker on the workers\n",
    "    #print(\"Sending data to workers, and triggering worker tasks...\")\n",
    "    \n",
    "    distributed_data = client.scatter(data_split)\n",
    "    futures = client.map(run_on_worker, distributed_data, range(num_of_workers))\n",
    "    results = client.gather(futures)\n",
    "    #print(\"Received data from workers.\")\n",
    "\n",
    "    # Reorder the response based on original input order\n",
    "    results.sort(key = lambda result: result['index'])  \n",
    "\n",
    "    # Concatenate the result where each is an ndarray of the shape (BATCH_SIZE/num_of_workers, 1)\n",
    "    merged_result = np.concatenate([r['data'] for r in results]) # FINAL RESULTS (CLASS LABELS)\n",
    "    \n",
    "    t1 = time.time()\n",
    "    max_fpga_runtime = max([r['runtime'] for r in results])\n",
    "    def avg(li):\n",
    "        return sum(li)/len(li)\n",
    "\n",
    "    #print(\"TOTAL EXECUTION TIME:\", t1-t0)\n",
    "    #print(\"Maximum FPGA runtime[s]:\", max_fpga_runtime) # Shown in the plot\n",
    "    #print(\"Average throughput[images/s]:\", avg([r['throughput'] for r in results]))\n",
    "    #print(\"Average DRAM_in_bandwidth[Mb/s]:\", avg([r['bandwidth_in'] for r in results])) \n",
    "    #print(\"Average DRAM_out_bandwidth[Mb/s]:\", avg([r['bandwidth_out'] for r in results]))    \n",
    "    #print(\"**************************\")\n",
    "    execution_times.append(max_fpga_runtime)\n",
    "    end_to_end_times.append(t1-t0)\n",
    "    #workers,fpga_type,batch_size,total_time,max_fpga_runtime,frequency,fpga_throughput,total_throughput\n",
    "    file = open(\"results.csv\", \"a\")\n",
    "    file.write(str(num_of_workers) + \",3_U280_3_U250,\" + str(BATCH_SIZE) + \",\" + str(t1-t0) + \",\" + str(max_fpga_runtime) + \",100,\" + str(avg([r['throughput'] for r in results])) + \",\" + str(BATCH_SIZE/(t1-t0)) + \"\\n\")\n",
    "    file.close()\n",
    "    \n",
    "print(\"Done\")"
   ]
  },
  {
   "cell_type": "markdown",
   "metadata": {},
   "source": [
    "### Generate a performance plot\n",
    "Plot the execution times for different batch sizes. Here, we plot the maximum FPGA execution times from all the workers. This time includes the data buffering time to/from the FPGA and the actual inference time. To plot the total end-to-end time instead, replace the *execution_times* variable below with the *end_to_end_times* variable."
   ]
  },
  {
   "cell_type": "code",
   "execution_count": 54,
   "metadata": {},
   "outputs": [
    {
     "data": {
      "text/plain": [
       "<Figure size 3600x3600 with 0 Axes>"
      ]
     },
     "metadata": {},
     "output_type": "display_data"
    },
    {
     "data": {
      "image/png": "[encoded data removed]",
      "text/plain": [
       "<Figure size 432x288 with 1 Axes>"
      ]
     },
     "metadata": {
      "needs_background": "light"
     },
     "output_type": "display_data"
    }
   ],
   "source": [
    "#import numpy as np\n",
    "#import matplotlib.pyplot as plt\n",
    "#f = plt.figure(figsize=(50,50))\n",
    "#x = BATCH_SIZES\n",
    "#f = plt.figure()\n",
    "\n",
    "#y2 = execution_times\n",
    "#plt.plot(x, y2, label = \"2 FPGAs\", marker='x')\n",
    "\n",
    "#plt.xlabel('Batch size (no. of images)')\n",
    "#plt.ylabel('Time taken to classify (in s)')\n",
    "#plt.title('FINN CNV + Cifar-10 performance demo')\n",
    "\n",
    "#plt.legend()\n",
    "#plt.grid()\n",
    "\n",
    "#f.savefig(\"cnv-1-vs-2.png\", bbox_inches='tight', dpi=150)"
   ]
  },
  {
   "cell_type": "markdown",
   "metadata": {},
   "source": [
    "### Measure scaling benefits\n",
    "To measure the benefits of scaling, run this notebook again after creating or destroying one or more Dask workers. Then compare the plots above to see the speedup."
   ]
  }
 ],
 "metadata": {
  "kernelspec": {
   "display_name": "Python 3",
   "language": "python",
   "name": "python3"
  },
  "language_info": {
   "codemirror_mode": {
    "name": "ipython",
    "version": 3
   },
   "file_extension": ".py",
   "mimetype": "text/x-python",
   "name": "python",
   "nbconvert_exporter": "python",
   "pygments_lexer": "ipython3",
   "version": "3.6.9"
  }
 },
 "nbformat": 4,
 "nbformat_minor": 4
}
